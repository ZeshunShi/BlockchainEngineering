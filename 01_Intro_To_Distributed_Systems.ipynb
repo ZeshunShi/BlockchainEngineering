{
 "cells": [
  {
   "cell_type": "markdown",
   "metadata": {
    "slideshow": {
     "slide_type": "slide"
    }
   },
   "source": [
    "#  Introduction\n",
    "\n",
    "To understand how Blockchain works, we must first discuss how distributed systems work.\n",
    "\n",
    "The goal of this notebook is to explain the building blocks for any distributed system, and specifically a peer-to-peer system. P2P environment is a network where peers are connected, exchange information and run applications on top of it.\n",
    "\n",
    "The goals are as follows:\n",
    "- We will build a system block by block.\n",
    "- Distributed systems are hard as there are many random errors: race conditions, nasty bugs, deadlocks.\n",
    "- We will simplify the world to get to the juiciest parts without leaving out the essentials.  \n",
    "\n",
    "\n",
    "We will simulate the P2P environment locally to get an idea of how such systems would work and understand the design decision that developers make.\n",
    "\n",
    "To show the different tradeoffs and why developers and researchers choose specific designs, we need a way to simulate such an environment. Here we will simulate the network and message exchange via a  discrete event simulator: [SimPy](simpy.readthedocs.io/en/latest/).\n",
    "\n",
    "For the simplicity of use, you can use wrapper for SimPY implement a P2P network simulation: `p2psimpy`. \n",
    "\n",
    "\n",
    "# Simulation of P2P environments\n",
    "\n",
    "We start the notebook by introducing the backbone for such a simulation: `BaseSimulation`.\n",
    "This class represents the network of peers with their physical representations in the world, such as physical `location`, [`bandwidth`](https://en.wikipedia.org/wiki/Bandwidth_(computing)). \n",
    "\n",
    "These properties both define and restrict the capabilities of how fast you can transfer messages and how message travel through the network (which peers see the message, which channels are used).\n",
    "\n",
    "\n",
    "`BaseSimulation` consists of 3 main parameters: \n",
    " - *Locations*\n",
    " - *Network Topology* \n",
    " - *Services and Message Processors* \n",
    "\n",
    "We will explain them one by one. \n",
    "\n"
   ]
  },
  {
   "cell_type": "markdown",
   "metadata": {},
   "source": [
    "  "
   ]
  },
  {
   "cell_type": "markdown",
   "metadata": {},
   "source": [
    "\n",
    "### Simulating latencies between locations\n",
    "\n",
    "The simulator simulates connection delays (`latency`) between the nodes in the physical space (`location`).\n",
    "This is a very rough representation of reality but is sufficient for us. You can read more about jitter and latency [here](https://www.tpx.com/blog/latency-jitter-and-packet-loss/) or [here](https://www.youtube.com/watch?v=WdbJdUh6W08).   \n",
    "\n",
    "\n",
    "\n",
    "Locations are defined as a `Config` class. Variables can be constant, or probabilistic (with a probability distribution using scipy).\n",
    "This class can be used as generators of parameters, saved and loaded as a [YAML](https://en.wikipedia.org/wiki/YAML) file."
   ]
  },
  {
   "cell_type": "markdown",
   "metadata": {},
   "source": [
    "Location configuration should contain at least two fields: `locations` and `latencies`. \n",
    "- `locations` is an array or a tuple with names of locations.\n",
    "- `latencies` is a dictionary (matrix) with latencies of pairwise connections.\n",
    "\n",
    "Depending on the experiments, latencies can be constant, but a more realistic model is a probabilistic distribution.\n",
    "Such a distribution is represented with the `Dist` class. \n",
    "\n",
    "`Dist` class is a wrap-around [scipy.stats](https://docs.scipy.org/doc/scipy/reference/stats.html), which has a rich collection of distributions. Use the [link](https://docs.scipy.org/doc/scipy/reference/stats.html) as reference documentation when choosing a distribution function.   \n",
    "\n",
    "Finally,  `Config.get()` samples all the parameters from distributions and returns them as a dictionary.  \n",
    "\n",
    "Let's try it out:"
   ]
  },
  {
   "cell_type": "code",
   "execution_count": 2,
   "metadata": {
    "ExecuteTime": {
     "end_time": "2020-03-27T09:17:35.256784Z",
     "start_time": "2020-03-27T09:17:34.199645Z"
    },
    "recordTiming": true
   },
   "outputs": [],
   "source": [
    "from p2psimpy.config import *\n",
    "\n",
    "\n",
    "class ConstLocations(Config):\n",
    "    '''A configuration with 2 locations: LocA and LocB with constant latencies.'''\n",
    "    locations = ['LocA', 'LocB']\n",
    "    latencies = {\n",
    "        'LocA': {'LocB': 10, 'LocA': 2},\n",
    "        'LocB': {'LocB': 1}\n",
    "    }    \n",
    "\n",
    "class DistLocations(Config):\n",
    "    '''A configuration with 2 locations: LocA and LocB with variable latencies defined with a statistical function.'''\n",
    "    locations = ['LocA', 'LocB']\n",
    "    latencies = {\n",
    "        'LocB': {'LocB': Dist('gamma', (1, 1, 1))},\n",
    "        'LocA': {'LocB': Dist('norm', (12, 2)), 'LocA': Dist('norm', (2, 0.5))},\n",
    "    }    \n",
    "    "
   ]
  },
  {
   "cell_type": "code",
   "execution_count": 3,
   "metadata": {
    "ExecuteTime": {
     "end_time": "2020-03-27T09:17:35.274429Z",
     "start_time": "2020-03-27T09:17:35.259195Z"
    }
   },
   "outputs": [
    {
     "data": {
      "text/plain": [
       "{'latencies': {'LocA': {'LocB': 10, 'LocA': 2}, 'LocB': {'LocB': 1}},\n",
       " 'locations': ['LocA', 'LocB']}"
      ]
     },
     "execution_count": 3,
     "metadata": {},
     "output_type": "execute_result"
    }
   ],
   "source": [
    "ConstLocations.get()"
   ]
  },
  {
   "cell_type": "code",
   "execution_count": 4,
   "metadata": {
    "ExecuteTime": {
     "end_time": "2020-03-27T09:17:35.287131Z",
     "start_time": "2020-03-27T09:17:35.278297Z"
    }
   },
   "outputs": [
    {
     "data": {
      "text/plain": [
       "{'latencies': {'LocB': {'LocB': 2.1660188312301427},\n",
       "  'LocA': {'LocB': 13.044155476216721, 'LocA': 2.1813557021609906}},\n",
       " 'locations': ['LocA', 'LocB']}"
      ]
     },
     "execution_count": 4,
     "metadata": {},
     "output_type": "execute_result"
    }
   ],
   "source": [
    "DistLocations.get()"
   ]
  },
  {
   "cell_type": "markdown",
   "metadata": {},
   "source": [
    "Every time you call `Config.get()` it will return new sample"
   ]
  },
  {
   "cell_type": "code",
   "execution_count": 5,
   "metadata": {
    "ExecuteTime": {
     "end_time": "2020-03-27T09:17:35.304760Z",
     "start_time": "2020-03-27T09:17:35.294903Z"
    }
   },
   "outputs": [
    {
     "data": {
      "text/plain": [
       "{'latencies': {'LocB': {'LocB': 2.667523483384411},\n",
       "  'LocA': {'LocB': 15.498768543725188, 'LocA': 2.021772201097097}},\n",
       " 'locations': ['LocA', 'LocB']}"
      ]
     },
     "execution_count": 5,
     "metadata": {},
     "output_type": "execute_result"
    }
   ],
   "source": [
    "DistLocations.get()"
   ]
  },
  {
   "cell_type": "markdown",
   "metadata": {},
   "source": [
    " "
   ]
  },
  {
   "cell_type": "markdown",
   "metadata": {},
   "source": [
    "To visualize it we can represent latencies sample as pandas dataframe. It provides a readable table:"
   ]
  },
  {
   "cell_type": "code",
   "execution_count": 6,
   "metadata": {
    "ExecuteTime": {
     "end_time": "2020-03-27T09:17:35.896505Z",
     "start_time": "2020-03-27T09:17:35.307036Z"
    }
   },
   "outputs": [
    {
     "data": {
      "text/html": [
       "<div>\n",
       "<style scoped>\n",
       "    .dataframe tbody tr th:only-of-type {\n",
       "        vertical-align: middle;\n",
       "    }\n",
       "\n",
       "    .dataframe tbody tr th {\n",
       "        vertical-align: top;\n",
       "    }\n",
       "\n",
       "    .dataframe thead th {\n",
       "        text-align: right;\n",
       "    }\n",
       "</style>\n",
       "<table border=\"1\" class=\"dataframe\">\n",
       "  <thead>\n",
       "    <tr style=\"text-align: right;\">\n",
       "      <th></th>\n",
       "      <th>LocB</th>\n",
       "      <th>LocA</th>\n",
       "    </tr>\n",
       "  </thead>\n",
       "  <tbody>\n",
       "    <tr>\n",
       "      <th>LocB</th>\n",
       "      <td>4.350542</td>\n",
       "      <td>6.905356</td>\n",
       "    </tr>\n",
       "    <tr>\n",
       "      <th>LocA</th>\n",
       "      <td>NaN</td>\n",
       "      <td>1.686457</td>\n",
       "    </tr>\n",
       "  </tbody>\n",
       "</table>\n",
       "</div>"
      ],
      "text/plain": [
       "          LocB      LocA\n",
       "LocB  4.350542  6.905356\n",
       "LocA       NaN  1.686457"
      ]
     },
     "execution_count": 6,
     "metadata": {},
     "output_type": "execute_result"
    }
   ],
   "source": [
    "import pandas as pd \n",
    "\n",
    "lat_sample = pd.DataFrame(DistLocations.get()['latencies'])\n",
    "lat_sample"
   ]
  },
  {
   "cell_type": "markdown",
   "metadata": {
    "ExecuteTime": {
     "end_time": "2020-03-16T16:34:34.176798Z",
     "start_time": "2020-03-16T16:34:34.165723Z"
    }
   },
   "source": [
    "*Notice that table has **NaN** values. They will not be automatically filled with symmetric value if not specified.*\n",
    "\n",
    "We can transform the table to fill them up symmetrically. "
   ]
  },
  {
   "cell_type": "code",
   "execution_count": 7,
   "metadata": {
    "ExecuteTime": {
     "end_time": "2020-03-27T09:17:35.940332Z",
     "start_time": "2020-03-27T09:17:35.904410Z"
    }
   },
   "outputs": [
    {
     "data": {
      "text/html": [
       "<div>\n",
       "<style scoped>\n",
       "    .dataframe tbody tr th:only-of-type {\n",
       "        vertical-align: middle;\n",
       "    }\n",
       "\n",
       "    .dataframe tbody tr th {\n",
       "        vertical-align: top;\n",
       "    }\n",
       "\n",
       "    .dataframe thead th {\n",
       "        text-align: right;\n",
       "    }\n",
       "</style>\n",
       "<table border=\"1\" class=\"dataframe\">\n",
       "  <thead>\n",
       "    <tr style=\"text-align: right;\">\n",
       "      <th></th>\n",
       "      <th>LocB</th>\n",
       "      <th>LocA</th>\n",
       "    </tr>\n",
       "  </thead>\n",
       "  <tbody>\n",
       "    <tr>\n",
       "      <th>LocB</th>\n",
       "      <td>4.350542</td>\n",
       "      <td>6.905356</td>\n",
       "    </tr>\n",
       "    <tr>\n",
       "      <th>LocA</th>\n",
       "      <td>6.905356</td>\n",
       "      <td>1.686457</td>\n",
       "    </tr>\n",
       "  </tbody>\n",
       "</table>\n",
       "</div>"
      ],
      "text/plain": [
       "          LocB      LocA\n",
       "LocB  4.350542  6.905356\n",
       "LocA  6.905356  1.686457"
      ]
     },
     "execution_count": 7,
     "metadata": {},
     "output_type": "execute_result"
    }
   ],
   "source": [
    "lat_sample[pd.isnull(lat_sample)] = lat_sample.T[pd.isnull(lat_sample)]\n",
    "lat_sample"
   ]
  },
  {
   "cell_type": "markdown",
   "metadata": {},
   "source": [
    "\n",
    "### Visualizing the data\n",
    "\n",
    "\n",
    " 1. Prepare data: \n",
    "  - Trasfer to pandas dataframe\n",
    "  - Fill null values with the symmetic counter-part\n",
    "  - Transform into list of tuples: 'from', 'to', 'value' \n",
    "  \n",
    " 2. Get 100 samples from the configuration with latencies\n",
    " \n",
    " 3. Visualize in a grid of histograms\n",
    "\n"
   ]
  },
  {
   "cell_type": "code",
   "execution_count": 8,
   "metadata": {
    "ExecuteTime": {
     "end_time": "2020-03-27T09:17:41.570964Z",
     "start_time": "2020-03-27T09:17:35.952523Z"
    }
   },
   "outputs": [
    {
     "name": "stderr",
     "output_type": "stream",
     "text": [
      "/anaconda3/lib/python3.7/site-packages/seaborn/distributions.py:2551: FutureWarning: `distplot` is a deprecated function and will be removed in a future version. Please adapt your code to use either `displot` (a figure-level function with similar flexibility) or `histplot` (an axes-level function for histograms).\n",
      "  warnings.warn(msg, FutureWarning)\n",
      "/anaconda3/lib/python3.7/site-packages/seaborn/distributions.py:2551: FutureWarning: `distplot` is a deprecated function and will be removed in a future version. Please adapt your code to use either `displot` (a figure-level function with similar flexibility) or `histplot` (an axes-level function for histograms).\n",
      "  warnings.warn(msg, FutureWarning)\n",
      "/anaconda3/lib/python3.7/site-packages/seaborn/distributions.py:2551: FutureWarning: `distplot` is a deprecated function and will be removed in a future version. Please adapt your code to use either `displot` (a figure-level function with similar flexibility) or `histplot` (an axes-level function for histograms).\n",
      "  warnings.warn(msg, FutureWarning)\n",
      "/anaconda3/lib/python3.7/site-packages/seaborn/distributions.py:2551: FutureWarning: `distplot` is a deprecated function and will be removed in a future version. Please adapt your code to use either `displot` (a figure-level function with similar flexibility) or `histplot` (an axes-level function for histograms).\n",
      "  warnings.warn(msg, FutureWarning)\n"
     ]
    },
    {
     "data": {
      "image/png": "[encoded data removed]",
      "text/plain": [
       "<Figure size 576x576 with 4 Axes>"
      ]
     },
     "metadata": {},
     "output_type": "display_data"
    }
   ],
   "source": [
    "\n",
    "import matplotlib.pyplot as plt\n",
    "import seaborn as sns\n",
    "sns.set(style='darkgrid')\n",
    "\n",
    "# 1. Data prepare\n",
    "def prepare(x):\n",
    "    x = pd.DataFrame(x)\n",
    "    x[pd.isnull(x)] = x.T[pd.isnull(x)]\n",
    "    return x.stack().reset_index()\\\n",
    "                    .rename(columns={'level_0':'from', 'level_1':'to', 0: 'value'})\n",
    "                    \n",
    "# 2. Get 100 samples\n",
    "df = pd.concat(prepare(DistLocations.get()['latencies']) for _ in range(100))\n",
    "\n",
    "# 3. Visualize in a grid of histograms\n",
    "g = sns.FacetGrid(df, col='to', row='from', height=4, aspect=1)\n",
    "g = g.map(sns.distplot, 'value')\n"
   ]
  },
  {
   "cell_type": "raw",
   "metadata": {},
   "source": []
  },
  {
   "cell_type": "markdown",
   "metadata": {},
   "source": [
    "The visulations shows the latency matrix for our two locations. "
   ]
  },
  {
   "cell_type": "markdown",
   "metadata": {},
   "source": [
    "----\n",
    "## Peers and Topologies \n",
    "\n",
    "Usually when designing your own system, the architect should think about the network topology: *How are peers connected to each other?*. \n",
    "\n",
    "\n",
    "Simulation can work in two modes: \n",
    "\n",
    "1. **NetworkX**. You know what topology you want to simulate, pass a network topology to the simulation.\n",
    "\n",
    "2. **Emergent**. Peers connect to each other without a pre-defined topology. A certain topology emerges through local rules, for example, peers connect with each other through the bootstrap peers and exchange data with each other. Typically, unstructured topologies of a peer-to-peer network fall in this category. You can read more [here](https://en.wikipedia.org/wiki/Bootstrapping_node), or  read how [Bitcoin network](https://en.bitcoin.it/wiki/Network) is formed.  \n",
    "\n",
    "\n",
    "### Networkx topology\n",
    "\n",
    "Let's first see how we can form a network topology.\n"
   ]
  },
  {
   "cell_type": "code",
   "execution_count": 9,
   "metadata": {
    "ExecuteTime": {
     "end_time": "2020-03-27T09:17:43.066290Z",
     "start_time": "2020-03-27T09:17:41.577831Z"
    },
    "recordTiming": true
   },
   "outputs": [
    {
     "data": {
      "image/png": "[encoded data removed]",
      "text/plain": [
       "<Figure size 432x288 with 1 Axes>"
      ]
     },
     "metadata": {},
     "output_type": "display_data"
    }
   ],
   "source": [
    "import networkx as nx\n",
    "\n",
    "peer_num = 10\n",
    "\n",
    "# Generate a random network network topology \n",
    "G = nx.erdos_renyi_graph(10, 0.5)\n",
    "\n",
    "# Assign a peer type to the peers with a type. Type if later used to tell which services to run.\n",
    "nx.set_node_attributes(G, {k: 'basic' for k in G.nodes()}, 'type')\n",
    "\n",
    "sns.set(style='dark')\n",
    "nx.draw_networkx(G)\n"
   ]
  },
  {
   "cell_type": "markdown",
   "metadata": {},
   "source": [
    "NetworkX is a library with rich semantics to work with graphs. You can read more [here](https://networkx.github.io/documentation/stable/reference/generators.html).  \n",
    "\n",
    "You can choose any graph, generate them and put `type` as node attributes. `type` is a name for the peer type. We will explain later on how it will be used in a simulation.  \n",
    "\n",
    "\n",
    "\n",
    "### Emergent topology\n",
    "\n",
    "What if topology is not known?\n",
    "\n",
    "In this case we can model the peer discovery mechanism through *bootstrapping* peers. The general bootstrap process is the following: \n",
    "1. Bootstrap nodes are first created and introduced to the network. The goal of bootstrap nodes is to maintain list of peers and connect them with each other upon request. Bootstrap nodes are usually known in advance, for example, hardcoded in the supplied code. \n",
    "2. The bootstrap procedure is as follows: a) new peer joins the network, b) peer sends a `Hello` message to one of bootstrap nodes, c) a bootstrap node responds to the peer with a random sample of known online peers. \n",
    "3. The peer connect with other peers from the given sample list.\n",
    "\n",
    "\n",
    "To run default bootstrap you should pass as a parameter `topology`, a dictionary with type `peer_id` -> {`type`: type_name}\n",
    "This is all abstracted in simulation, but you can specify your own bootstrap logic later. \n",
    "\n",
    "\n",
    "<!-- ### Explain more\n",
    "\n",
    "Discovery  -->"
   ]
  },
  {
   "cell_type": "markdown",
   "metadata": {},
   "source": [
    "-------\n",
    "## Peer types and services\n",
    "\n",
    "Finally, our simulation needs messages and service to process these messages. In `p2psimpy` we model it through Manager Classes and `PeerType`.\n",
    "\n",
    "Below we show an example of a simple map with one type of the peer: `basic`: \n",
    "\n",
    "- Peer is described with a `PeerType(PeerConfig, services)`. \n",
    "    - `PeerConfig` describes a physical capacities of the node: bandwidth for the messages that go through (upload and download) and location (one the specified before)\n",
    "    - `services` is a list of service that peer should run. There some standard services that you can use in your simulation. But you will also implement your own later!\n",
    "- Minimally peer should have at least a connection service to connect to the network and respond to the introduction messages. These are the standard connection services available for you: \n",
    "  - `BaseConnectionManager`: a simple connection service that can connect, ping other peers and disconnect unresponsive peers. This is the recommended service for a **Networkx** topology approach.  \n",
    "  - `P2PConnectionManager`: an extended BaseConnectionManger that additionally keeps the number of connections between specified `min_peers` and `max_peers`. If the number of local connections is lower than `min_peers`, service will actievly pool and ask other peers for new connection. If the number of local connections is higher than `max_peers`, service will refuse all new connection and disconnect the slowest peers. This is a recommended service for an **Emergent** topology approach. \n",
    "\n",
    "Let's see how it looks in code:\n"
   ]
  },
  {
   "cell_type": "code",
   "execution_count": 10,
   "metadata": {
    "ExecuteTime": {
     "end_time": "2020-03-27T09:17:43.208204Z",
     "start_time": "2020-03-27T09:17:43.085495Z"
    }
   },
   "outputs": [],
   "source": [
    "from p2psimpy.config import *\n",
    "from p2psimpy.consts import *\n",
    "    \n",
    "class PeerConfig(Config):\n",
    "    # Location of the peer - random location from the locations specified earlier \n",
    "    location = Dist('sample', DistLocations.locations)\n",
    "    # Bandwidth is normally distributed with average of 50 and var 10 Mbit\n",
    "    bandwidth_ul = Dist( 'norm', (50*MBit, 10*MBit))\n",
    "    bandwidth_dl = Dist( 'norm', (50*MBit, 10*MBit))\n",
    "\n",
    "# Let's add ConnectionManager - that will periodically ping neighbours and check if they are online.\n",
    "# We use BaseConnectionManager - that will periodically ping peer and disconnect unresponsive peers.\n",
    "from p2psimpy.services.connection_manager import BaseConnectionManager\n",
    "\n",
    "services = (BaseConnectionManager,)\n",
    "# We have on peer role: basic\n",
    "peer_types = {'basic': PeerType(PeerConfig, services)}"
   ]
  },
  {
   "cell_type": "markdown",
   "metadata": {},
   "source": [
    "How to use these configurations? Configs are used to get value. \n",
    "They work as generators and attribute descriptors.  "
   ]
  },
  {
   "cell_type": "markdown",
   "metadata": {},
   "source": [
    "----"
   ]
  },
  {
   "cell_type": "markdown",
   "metadata": {},
   "source": [
    "# Putting it all together\n",
    "\n",
    "\n",
    "Let's combine all you learned so far to run a simple simulation:\n",
    "\n",
    "1. Define locations and simulation world parameters.\n",
    "2. Define topology and number of peers with their types.  \n",
    "3. Define what each peer type is with a `PeerConfig` and what it does with services. \n",
    "\n",
    "\n",
    "After we defined all this we can create a simulation object and run it with `.run(time)`.\n",
    "\n",
    "Simulation has it's internal clock and scheduler for all events. The parameter `time` is a time until which the simulation is run. \n",
    "\n",
    "\n",
    "***The time is defined in milliseconds**!\n",
    "\n",
    "\n",
    "\n"
   ]
  },
  {
   "cell_type": "markdown",
   "metadata": {
    "ExecuteTime": {
     "end_time": "2020-03-11T09:50:33.374122Z",
     "start_time": "2020-03-11T09:50:33.347834Z"
    }
   },
   "source": [
    "## Random given topology \n",
    "\n",
    "Let us first try out with a random given topology generated as a networkx graph"
   ]
  },
  {
   "cell_type": "code",
   "execution_count": 11,
   "metadata": {
    "ExecuteTime": {
     "end_time": "2020-03-27T09:17:43.889018Z",
     "start_time": "2020-03-27T09:17:43.214432Z"
    }
   },
   "outputs": [
    {
     "data": {
      "image/png": "[encoded data removed]",
      "text/plain": [
       "<Figure size 432x288 with 1 Axes>"
      ]
     },
     "metadata": {},
     "output_type": "display_data"
    }
   ],
   "source": [
    "from p2psimpy.config import *\n",
    "from p2psimpy.consts import *\n",
    "import networkx as nx\n",
    "\n",
    "class Locations(Config):\n",
    "    locations = ['LocA', 'LocB']\n",
    "    latencies = {\n",
    "        'LocB': {'LocB': Dist('gamma', (1, 1, 1))},\n",
    "        'LocA': {'LocB': Dist('norm', (12, 2)), 'LocA': Dist('norm', (2, 0.5))},\n",
    "    } \n",
    "\n",
    "# Number of nodes\n",
    "N = 10\n",
    "    \n",
    "# Generate network topology \n",
    "G = nx.erdos_renyi_graph(N, 0.5)\n",
    "# Assign a peer type to the peers \n",
    "nx.set_node_attributes(G, {k: 'basic' for k in G.nodes()}, 'type')\n",
    "\n",
    "class PeerConfig(Config):\n",
    "    location = Dist('sample', Locations.locations)\n",
    "    bandwidth_ul = Dist( 'norm', (50*MBit, 10*MBit))\n",
    "    bandwidth_dl = Dist( 'norm', (50*MBit, 10*MBit))\n",
    "\n",
    "# Let's add ConnectionManager - that will periodically ping neighbours and check if they are online \n",
    "from p2psimpy.services.connection_manager import BaseConnectionManager\n",
    "# For each service you can define own configuration, or use default values.   \n",
    "# Lets use base connection manager - that will periodically ping peer and disconnect unresponsive peers.\n",
    "\n",
    "services = (BaseConnectionManager,)\n",
    "peer_types = {'basic': PeerType(PeerConfig, services)}\n",
    "\n",
    "# Display the topology \n",
    "nx.draw_networkx(G)"
   ]
  },
  {
   "cell_type": "code",
   "execution_count": 13,
   "metadata": {
    "ExecuteTime": {
     "end_time": "2020-03-27T09:17:44.329539Z",
     "start_time": "2020-03-27T09:17:43.895337Z"
    }
   },
   "outputs": [],
   "source": [
    "from p2psimpy.simulation import BaseSimulation\n",
    "\n",
    "# Create BaseSimulation with enabled logger and save in the logs directory. \n",
    "sim = BaseSimulation(Locations, G, peer_types, enable_logger=True, logger_dir='logs')\n",
    "\n",
    "# Let's run the simulation for 5 seconds\n",
    "sim.run(5_000)"
   ]
  },
  {
   "cell_type": "markdown",
   "metadata": {
    "ExecuteTime": {
     "end_time": "2020-03-17T12:40:15.632268Z",
     "start_time": "2020-03-17T12:40:15.613568Z"
    }
   },
   "source": [
    "----------------------------\n",
    "\n",
    "What's next? There is no output.\n",
    "\n",
    "We run the simulator with logger enabled to see the all the messages exchanged in the network. \n",
    "\n",
    "The output is written to the logs in `\\logs` directory. Let's see what is the output. \n",
    "Each peer writes its own log with events happening like received message, connecting to a peer etc. \n",
    "\n",
    "For example, here is the log of peer 1:"
   ]
  },
  {
   "cell_type": "code",
   "execution_count": 86,
   "metadata": {
    "ExecuteTime": {
     "end_time": "2020-03-27T09:17:44.413024Z",
     "start_time": "2020-03-27T09:17:44.345639Z"
    }
   },
   "outputs": [
    {
     "name": "stdout",
     "output_type": "stream",
     "text": [
      "Peer_1:basic INFO 0.9248469189266616: Connecting to Peer_5:basic\n",
      "Peer_1:basic INFO 0.9427196936162489: Received message <Hello:> from Peer_7:basic\n",
      "Peer_1:basic INFO 0.9427196936162489: Connecting to Peer_7:basic\n",
      "Peer_1:basic INFO 0.9427196936162489: Sending message <Hello:> to Peer_7:basic\n",
      "Peer_1:basic INFO 0.9849783810884741: Received message <Hello:> from Peer_5:basic\n",
      "Peer_1:basic INFO 1.0570121355569586: Received message <Hello:> from Peer_4:basic\n",
      "Peer_1:basic INFO 1.0570121355569586: Connecting to Peer_4:basic\n",
      "Peer_1:basic INFO 1.0570121355569586: Sending message <Hello:> to Peer_4:basic\n",
      "Peer_1:basic INFO 1.2161440469128004: Connecting to Peer_8:basic\n",
      "Peer_1:basic INFO 1.2228201864831583: Received message <Hello:> from Peer_8:basic\n",
      "Peer_1:basic INFO 1.725714506084335: Received message <Hello:> from Peer_5:basic\n",
      "Peer_1:basic INFO 2.338284410357786: Received message <Hello:> from Peer_8:basic\n",
      "Peer_1:basic INFO 1000: Sending message <Ping:> to Peer_5:basic\n",
      "Peer_1:basic INFO 1000: Sending message <Ping:> to Peer_7:basic\n",
      "Peer_1:basic INFO 1000: Sending message <Ping:> to Peer_4:basic\n",
      "Peer_1:basic INFO 1000: Sending message <Ping:> to Peer_8:basic\n",
      "Peer_1:basic INFO 1001.0917924951423: Received message <Ping:> from Peer_8:basic\n",
      "Peer_1:basic INFO 1001.0917924951423: Sending message <Pong:> to Peer_8:basic\n",
      "Peer_1:basic INFO 1001.0955059849624: Received message <Ping:> from Peer_7:basic\n",
      "Peer_1:basic INFO 1001.0955059849624: Sending message <Pong:> to Peer_7:basic\n",
      "Peer_1:basic INFO 1001.1222536599576: Received message <Pong:> from Peer_4:basic\n",
      "Peer_1:basic INFO 1001.1309679895113: Received message <Ping:> from Peer_4:basic\n",
      "Peer_1:basic INFO 1001.1309679895113: Sending message <Pong:> to Peer_4:basic\n",
      "Peer_1:basic INFO 1001.4310595339185: Received message <Ping:> from Peer_5:basic\n",
      "Peer_1:basic INFO 1001.4310595339185: Sending message <Pong:> to Peer_5:basic\n",
      "Peer_1:basic INFO 1001.5422782937765: Received message <Pong:> from Peer_8:basic\n",
      "Peer_1:basic INFO 1001.7694016495368: Received message <Pong:> from Peer_7:basic\n",
      "Peer_1:basic INFO 1001.87095815758: Received message <Pong:> from Peer_5:basic\n",
      "Peer_1:basic INFO 2000: Sending message <Ping:> to Peer_5:basic\n",
      "Peer_1:basic INFO 2000: Sending message <Ping:> to Peer_7:basic\n",
      "Peer_1:basic INFO 2000: Sending message <Ping:> to Peer_4:basic\n",
      "Peer_1:basic INFO 2000: Sending message <Ping:> to Peer_8:basic\n",
      "Peer_1:basic INFO 2000.5715925594634: Received message <Ping:> from Peer_5:basic\n",
      "Peer_1:basic INFO 2000.5715925594634: Sending message <Pong:> to Peer_5:basic\n",
      "Peer_1:basic INFO 2000.832373825586: Received message <Ping:> from Peer_4:basic\n",
      "Peer_1:basic INFO 2000.832373825586: Sending message <Pong:> to Peer_4:basic\n",
      "Peer_1:basic INFO 2000.9137355465791: Received message <Ping:> from Peer_7:basic\n",
      "Peer_1:basic INFO 2000.9137355465791: Sending message <Pong:> to Peer_7:basic\n",
      "Peer_1:basic INFO 2001.2741495276161: Received message <Ping:> from Peer_8:basic\n",
      "Peer_1:basic INFO 2001.2741495276161: Sending message <Pong:> to Peer_8:basic\n",
      "Peer_1:basic INFO 2001.3450564190362: Received message <Pong:> from Peer_7:basic\n",
      "Peer_1:basic INFO 2001.4178720979162: Received message <Pong:> from Peer_5:basic\n",
      "Peer_1:basic INFO 2001.7667366278447: Received message <Pong:> from Peer_4:basic\n",
      "Peer_1:basic INFO 2001.8165837100387: Received message <Pong:> from Peer_8:basic\n",
      "Peer_1:basic INFO 3000: Sending message <Ping:> to Peer_5:basic\n",
      "Peer_1:basic INFO 3000: Sending message <Ping:> to Peer_7:basic\n",
      "Peer_1:basic INFO 3000: Sending message <Ping:> to Peer_4:basic\n",
      "Peer_1:basic INFO 3000: Sending message <Ping:> to Peer_8:basic\n",
      "Peer_1:basic INFO 3000.8167788964: Received message <Ping:> from Peer_7:basic\n",
      "Peer_1:basic INFO 3000.8167788964: Sending message <Pong:> to Peer_7:basic\n",
      "Peer_1:basic INFO 3000.9041817032225: Received message <Ping:> from Peer_5:basic\n",
      "Peer_1:basic INFO 3000.9041817032225: Sending message <Pong:> to Peer_5:basic\n",
      "Peer_1:basic INFO 3001.00465896767: Received message <Ping:> from Peer_4:basic\n",
      "Peer_1:basic INFO 3001.00465896767: Sending message <Pong:> to Peer_4:basic\n",
      "Peer_1:basic INFO 3001.223729032303: Received message <Ping:> from Peer_8:basic\n",
      "Peer_1:basic INFO 3001.223729032303: Sending message <Pong:> to Peer_8:basic\n",
      "Peer_1:basic INFO 3001.6944807972473: Received message <Pong:> from Peer_5:basic\n",
      "Peer_1:basic INFO 3001.7476738416954: Received message <Pong:> from Peer_7:basic\n",
      "Peer_1:basic INFO 3002.597888503934: Received message <Pong:> from Peer_4:basic\n",
      "Peer_1:basic INFO 3002.6523218414945: Received message <Pong:> from Peer_8:basic\n",
      "Peer_1:basic INFO 4000: Sending message <Ping:> to Peer_5:basic\n",
      "Peer_1:basic INFO 4000: Sending message <Ping:> to Peer_7:basic\n",
      "Peer_1:basic INFO 4000: Sending message <Ping:> to Peer_4:basic\n",
      "Peer_1:basic INFO 4000: Sending message <Ping:> to Peer_8:basic\n",
      "Peer_1:basic INFO 4000.7183067214305: Received message <Ping:> from Peer_4:basic\n",
      "Peer_1:basic INFO 4000.7183067214305: Sending message <Pong:> to Peer_4:basic\n",
      "Peer_1:basic INFO 4000.807154735456: Received message <Ping:> from Peer_8:basic\n",
      "Peer_1:basic INFO 4000.807154735456: Sending message <Pong:> to Peer_8:basic\n",
      "Peer_1:basic INFO 4000.9204924873798: Received message <Ping:> from Peer_7:basic\n",
      "Peer_1:basic INFO 4000.9204924873798: Sending message <Pong:> to Peer_7:basic\n",
      "Peer_1:basic INFO 4001.330601539734: Received message <Ping:> from Peer_5:basic\n",
      "Peer_1:basic INFO 4001.330601539734: Sending message <Pong:> to Peer_5:basic\n",
      "Peer_1:basic INFO 4001.6037032189156: Received message <Pong:> from Peer_5:basic\n",
      "Peer_1:basic INFO 4001.6747018353276: Received message <Pong:> from Peer_8:basic\n",
      "Peer_1:basic INFO 4002.0240115572688: Received message <Pong:> from Peer_4:basic\n",
      "Peer_1:basic INFO 4002.4893746017524: Received message <Pong:> from Peer_7:basic\n",
      "\n"
     ]
    }
   ],
   "source": [
    "with open('logs/Peer_1:basic.log') as s:\n",
    "    print(s.read())"
   ]
  },
  {
   "cell_type": "markdown",
   "metadata": {},
   "source": [
    "## Emergent topology\n",
    "\n",
    "Now let's try an emergent topology, we will use the same configuration, but use bootstrap peer for discovery and building a network. For the connection manager we will use `P2PConnectionManager`.  \n"
   ]
  },
  {
   "cell_type": "code",
   "execution_count": 87,
   "metadata": {
    "ExecuteTime": {
     "end_time": "2020-03-27T09:17:44.430653Z",
     "start_time": "2020-03-27T09:17:44.415134Z"
    }
   },
   "outputs": [],
   "source": [
    "from p2psimpy.services.connection_manager import P2PConnectionManager\n",
    "\n",
    "num_peers = 10\n",
    "\n",
    "topology_specs = {i:{'type': 'basic'} for i in range(1, num_peers+1)}\n",
    "\n",
    "class ConnectionConfig(Config):\n",
    "    min_peers = 4\n",
    "    max_peers = 8\n",
    "\n",
    "peer_types = {'basic': PeerType(PeerConfig, {P2PConnectionManager: ConnectionConfig})}\n"
   ]
  },
  {
   "cell_type": "code",
   "execution_count": 88,
   "metadata": {
    "ExecuteTime": {
     "end_time": "2020-03-27T09:17:44.729428Z",
     "start_time": "2020-03-27T09:17:44.442513Z"
    }
   },
   "outputs": [],
   "source": [
    "sim = BaseSimulation(Locations, topology_specs, peer_types, logger_dir='logs2')\n",
    "\n",
    "# Let's run the simulation for 5 seconds\n",
    "sim.run(5_000)"
   ]
  },
  {
   "cell_type": "markdown",
   "metadata": {},
   "source": [
    "#### The peers form themselves a random topology"
   ]
  },
  {
   "cell_type": "code",
   "execution_count": 89,
   "metadata": {
    "ExecuteTime": {
     "end_time": "2020-03-27T09:17:46.596898Z",
     "start_time": "2020-03-27T09:17:44.765123Z"
    }
   },
   "outputs": [
    {
     "data": {
      "image/png": "[encoded data removed]",
      "text/plain": [
       "<Figure size 432x288 with 1 Axes>"
      ]
     },
     "metadata": {},
     "output_type": "display_data"
    }
   ],
   "source": [
    "G1 = sim.get_graph()\n",
    "nx.draw_networkx(G1)"
   ]
  },
  {
   "cell_type": "code",
   "execution_count": 90,
   "metadata": {
    "ExecuteTime": {
     "end_time": "2020-03-27T09:17:46.609528Z",
     "start_time": "2020-03-27T09:17:46.600756Z"
    }
   },
   "outputs": [
    {
     "name": "stdout",
     "output_type": "stream",
     "text": [
      "Peer_1:basic WARNING 0: Not enough peers, fetching more (0, 4)\n",
      "Peer_1:basic INFO 0.903379662061305: Connecting to Peer_11:bootstrap\n",
      "Peer_1:basic INFO 1.829757823277144: Received message <Hello:> from Peer_11:bootstrap\n",
      "Peer_1:basic INFO 2.022836677921433: Received message <RequestPeers:> from Peer_11:bootstrap\n",
      "Peer_1:basic INFO 2.022836677921433: Sending message <PeerList> to Peer_11:bootstrap\n",
      "Peer_1:basic WARNING 500: Not enough peers, fetching more (1, 4)\n",
      "Peer_1:basic INFO 500: Sending message <RequestPeers:> to Peer_11:bootstrap\n",
      "Peer_1:basic INFO 502.2351736462369: Received message <PeerList> from Peer_11:bootstrap\n",
      "Peer_1:basic WARNING 1000: Not enough peers, fetching more (1, 4)\n",
      "Peer_1:basic INFO 1000: Sending message <RequestPeers:> to Peer_11:bootstrap\n",
      "Peer_1:basic INFO 1000.9043035017235: Received message <RequestPeers:> from Peer_11:bootstrap\n",
      "Peer_1:basic INFO 1000.9043035017235: Sending message <PeerList> to Peer_11:bootstrap\n",
      "Peer_1:basic INFO 1002.1697138011863: Received message <PeerList> from Peer_11:bootstrap\n",
      "Peer_1:basic INFO 1005.4886235137258: Connecting to Peer_6:basic\n",
      "Peer_1:basic INFO 1006.9158577698507: Received message <Hello:> from Peer_7:basic\n",
      "Peer_1:basic INFO 1006.9158577698507: Connecting to Peer_7:basic\n",
      "Peer_1:basic INFO 1006.9158577698507: Sending message <Hello:> to Peer_7:basic\n",
      "Peer_1:basic INFO 1006.9158577698507: Sending message <RequestPeers:> to Peer_7:basic\n",
      "Peer_1:basic INFO 1007.5638416684362: Received message <Hello:> from Peer_6:basic\n",
      "Peer_1:basic INFO 1011.478871758993: Received message <RequestPeers:> from Peer_6:basic\n",
      "Peer_1:basic INFO 1011.478871758993: Sending message <PeerList> to Peer_6:basic\n",
      "Peer_1:basic INFO 1012.0912404702452: Received message <Hello:> from Peer_6:basic\n",
      "Peer_1:basic INFO 1018.1112470659616: Received message <PeerList> from Peer_7:basic\n",
      "Peer_1:basic WARNING 1500: Not enough peers, fetching more (3, 4)\n",
      "Peer_1:basic INFO 1501.37262406051: Received message <Hello:> from Peer_9:basic\n",
      "Peer_1:basic INFO 1501.37262406051: Connecting to Peer_9:basic\n",
      "Peer_1:basic INFO 1501.37262406051: Sending message <Hello:> to Peer_9:basic\n",
      "Peer_1:basic INFO 1501.37262406051: Sending message <RequestPeers:> to Peer_9:basic\n",
      "Peer_1:basic INFO 1502.944447972373: Received message <PeerList> from Peer_9:basic\n",
      "Peer_1:basic INFO 1505.5419861290532: Connecting to Peer_5:basic\n",
      "Peer_1:basic INFO 1505.7297242220309: Received message <RequestPeers:> from Peer_6:basic\n",
      "Peer_1:basic INFO 1505.7297242220309: Sending message <PeerList> to Peer_6:basic\n",
      "Peer_1:basic INFO 1511.4198975204433: Received message <Hello:> from Peer_5:basic\n",
      "Peer_1:basic INFO 1511.6826246146202: Received message <RequestPeers:> from Peer_5:basic\n",
      "Peer_1:basic INFO 1511.6826246146202: Sending message <PeerList> to Peer_5:basic\n",
      "Peer_1:basic INFO 2000: Sending message <Ping:> to Peer_11:bootstrap\n",
      "Peer_1:basic INFO 2000: Sending message <Ping:> to Peer_7:basic\n",
      "Peer_1:basic INFO 2000.6194671634814: Received message <Ping:> from Peer_11:bootstrap\n",
      "Peer_1:basic INFO 2000.6194671634814: Sending message <Pong:> to Peer_11:bootstrap\n",
      "Peer_1:basic INFO 2000.932346798375: Received message <RequestPeers:> from Peer_11:bootstrap\n",
      "Peer_1:basic INFO 2000.932346798375: Sending message <PeerList> to Peer_11:bootstrap\n",
      "Peer_1:basic INFO 2001.7981042065564: Received message <Pong:> from Peer_11:bootstrap\n",
      "Peer_1:basic INFO 2006.594013939582: Received message <Ping:> from Peer_7:basic\n",
      "Peer_1:basic INFO 2006.594013939582: Sending message <Pong:> to Peer_7:basic\n",
      "Peer_1:basic INFO 2013.212083899795: Received message <Pong:> from Peer_7:basic\n",
      "Peer_1:basic INFO 2500: Sending message <Ping:> to Peer_6:basic\n",
      "Peer_1:basic INFO 2500: Sending message <Ping:> to Peer_9:basic\n",
      "Peer_1:basic INFO 2500: Sending message <Ping:> to Peer_5:basic\n",
      "Peer_1:basic INFO 2500.8922236243957: Received message <Hello:> from Peer_10:basic\n",
      "Peer_1:basic INFO 2500.8922236243957: Connecting to Peer_10:basic\n",
      "Peer_1:basic INFO 2500.8922236243957: Sending message <Hello:> to Peer_10:basic\n",
      "Peer_1:basic INFO 2500.8922236243957: Sending message <RequestPeers:> to Peer_10:basic\n",
      "Peer_1:basic INFO 2501.1373849700144: Received message <Ping:> from Peer_9:basic\n",
      "Peer_1:basic INFO 2501.1373849700144: Sending message <Pong:> to Peer_9:basic\n",
      "Peer_1:basic INFO 2502.398830026618: Received message <Pong:> from Peer_9:basic\n",
      "Peer_1:basic INFO 2503.2239250375314: Received message <PeerList> from Peer_10:basic\n",
      "Peer_1:basic INFO 2506.8904317998363: Received message <Ping:> from Peer_6:basic\n",
      "Peer_1:basic INFO 2506.8904317998363: Sending message <Pong:> to Peer_6:basic\n",
      "Peer_1:basic INFO 2507.5131777531037: Received message <Ping:> from Peer_5:basic\n",
      "Peer_1:basic INFO 2507.5131777531037: Sending message <Pong:> to Peer_5:basic\n",
      "Peer_1:basic INFO 2511.8127818038015: Received message <Pong:> from Peer_5:basic\n",
      "Peer_1:basic INFO 2514.03516130338: Received message <Pong:> from Peer_6:basic\n",
      "Peer_1:basic INFO 3000: Sending message <Ping:> to Peer_11:bootstrap\n",
      "Peer_1:basic INFO 3000: Sending message <Ping:> to Peer_7:basic\n",
      "Peer_1:basic INFO 3001.2581970418864: Received message <Ping:> from Peer_11:bootstrap\n",
      "Peer_1:basic INFO 3001.2581970418864: Sending message <Pong:> to Peer_11:bootstrap\n",
      "Peer_1:basic INFO 3001.4759968195576: Received message <Pong:> from Peer_11:bootstrap\n",
      "Peer_1:basic INFO 3007.459340805832: Received message <Ping:> from Peer_7:basic\n",
      "Peer_1:basic INFO 3007.459340805832: Sending message <Pong:> to Peer_7:basic\n",
      "Peer_1:basic INFO 3009.769191721143: Received message <Pong:> from Peer_7:basic\n",
      "Peer_1:basic INFO 3500: Sending message <Ping:> to Peer_6:basic\n",
      "Peer_1:basic INFO 3500: Sending message <Ping:> to Peer_9:basic\n",
      "Peer_1:basic INFO 3500: Sending message <Ping:> to Peer_5:basic\n",
      "Peer_1:basic INFO 3500: Sending message <Ping:> to Peer_10:basic\n",
      "Peer_1:basic INFO 3500.4636924589427: Received message <Ping:> from Peer_10:basic\n",
      "Peer_1:basic INFO 3500.4636924589427: Sending message <Pong:> to Peer_10:basic\n",
      "Peer_1:basic INFO 3500.7511483692965: Received message <Ping:> from Peer_9:basic\n",
      "Peer_1:basic INFO 3500.7511483692965: Sending message <Pong:> to Peer_9:basic\n",
      "Peer_1:basic INFO 3501.4507250641523: Received message <RequestPeers:> from Peer_11:bootstrap\n",
      "Peer_1:basic INFO 3501.4507250641523: Sending message <PeerList> to Peer_11:bootstrap\n",
      "Peer_1:basic INFO 3502.22025569641: Received message <Pong:> from Peer_10:basic\n",
      "Peer_1:basic INFO 3502.7217431257936: Received message <Pong:> from Peer_9:basic\n",
      "Peer_1:basic INFO 3504.860546871926: Received message <Ping:> from Peer_6:basic\n",
      "Peer_1:basic INFO 3504.860546871926: Sending message <Pong:> to Peer_6:basic\n",
      "Peer_1:basic INFO 3505.239403004336: Received message <Ping:> from Peer_5:basic\n",
      "Peer_1:basic INFO 3505.239403004336: Sending message <Pong:> to Peer_5:basic\n",
      "Peer_1:basic INFO 3511.2303190921457: Received message <Pong:> from Peer_5:basic\n",
      "Peer_1:basic INFO 3512.20791191588: Received message <Pong:> from Peer_6:basic\n",
      "Peer_1:basic INFO 4000: Sending message <Ping:> to Peer_7:basic\n",
      "Peer_1:basic INFO 4001.379680433901: Received message <RequestPeers:> from Peer_11:bootstrap\n",
      "Peer_1:basic INFO 4001.379680433901: Sending message <PeerList> to Peer_11:bootstrap\n",
      "Peer_1:basic INFO 4005.478252275867: Received message <Ping:> from Peer_7:basic\n",
      "Peer_1:basic INFO 4005.478252275867: Sending message <Pong:> to Peer_7:basic\n",
      "Peer_1:basic INFO 4011.904662779558: Received message <Pong:> from Peer_7:basic\n",
      "Peer_1:basic INFO 4500: Sending message <Ping:> to Peer_6:basic\n",
      "Peer_1:basic INFO 4500: Sending message <Ping:> to Peer_9:basic\n",
      "Peer_1:basic INFO 4500: Sending message <Ping:> to Peer_5:basic\n",
      "Peer_1:basic INFO 4500: Sending message <Ping:> to Peer_10:basic\n",
      "Peer_1:basic INFO 4501.086143354571: Received message <Ping:> from Peer_9:basic\n",
      "Peer_1:basic INFO 4501.086143354571: Sending message <Pong:> to Peer_9:basic\n",
      "Peer_1:basic INFO 4501.376345159469: Received message <Ping:> from Peer_10:basic\n",
      "Peer_1:basic INFO 4501.376345159469: Sending message <Pong:> to Peer_10:basic\n",
      "Peer_1:basic INFO 4501.707654031197: Received message <Pong:> from Peer_9:basic\n",
      "Peer_1:basic INFO 4502.436429945829: Received message <Pong:> from Peer_10:basic\n",
      "Peer_1:basic INFO 4505.012931795082: Received message <Ping:> from Peer_6:basic\n",
      "Peer_1:basic INFO 4505.012931795082: Sending message <Pong:> to Peer_6:basic\n",
      "Peer_1:basic INFO 4506.252983931437: Received message <Ping:> from Peer_5:basic\n",
      "Peer_1:basic INFO 4506.252983931437: Sending message <Pong:> to Peer_5:basic\n",
      "Peer_1:basic INFO 4511.661039719558: Received message <Pong:> from Peer_5:basic\n",
      "Peer_1:basic INFO 4512.367261291791: Received message <Pong:> from Peer_6:basic\n",
      "\n"
     ]
    }
   ],
   "source": [
    "with open('logs2/Peer_1:basic.log') as s:\n",
    "    print(s.read())"
   ]
  },
  {
   "cell_type": "markdown",
   "metadata": {},
   "source": [
    "------------------\n",
    "\n",
    "Now you get how to work a simulation, in the next notebook we will take a look into services and implement our own.  \n"
   ]
  },
  {
   "cell_type": "markdown",
   "metadata": {},
   "source": [
    "## Your experiments here \n",
    "\n",
    "\n",
    "1. Change the latency between the locations and look at the logs.  \n",
    "2. Change the rules for the discovery\n",
    "\n"
   ]
  },
  {
   "cell_type": "markdown",
   "metadata": {},
   "source": [
    "### Experiment 1\n",
    "1. Change the distribution latencies to 'alpha' & 'lognorm'."
   ]
  },
  {
   "cell_type": "code",
   "execution_count": 91,
   "metadata": {},
   "outputs": [
    {
     "data": {
      "text/plain": [
       "{'latencies': {'LocB': {'LocB': 2.9027973719213804},\n",
       "  'LocA': {'LocB': 13.45858228920445, 'LocA': 3.5764185288971966}},\n",
       " 'locations': ['LocA', 'LocB']}"
      ]
     },
     "execution_count": 91,
     "metadata": {},
     "output_type": "execute_result"
    }
   ],
   "source": [
    "class Locations(Config):\n",
    "    locations = ['LocA', 'LocB']\n",
    "    latencies = {\n",
    "        'LocB': {'LocB': Dist('alpha', (1, 1, 1))},\n",
    "        'LocA': {'LocB': Dist('lognorm', (1, 12, 2)), 'LocA': Dist('lognorm', (1, 2, 0.5))},\n",
    "    } \n",
    "Locations.get()"
   ]
  },
  {
   "cell_type": "markdown",
   "metadata": {},
   "source": [
    "2. Run the simulation with given topology, and save it to \"logs3\" folder."
   ]
  },
  {
   "cell_type": "code",
   "execution_count": 92,
   "metadata": {},
   "outputs": [],
   "source": [
    "N = 10\n",
    "G = nx.erdos_renyi_graph(N, 0.5)\n",
    "nx.set_node_attributes(G, {k: 'basic' for k in G.nodes()}, 'type')\n",
    "\n",
    "class PeerConfig(Config):\n",
    "    location = Dist('sample', Locations.locations)\n",
    "    bandwidth_ul = Dist( 'norm', (50*MBit, 10*MBit))\n",
    "    bandwidth_dl = Dist( 'norm', (50*MBit, 10*MBit))\n",
    "    \n",
    "from p2psimpy.services.connection_manager import BaseConnectionManager\n",
    "services = (BaseConnectionManager,)\n",
    "peer_types = {'basic': PeerType(PeerConfig, services)}\n",
    "\n",
    "sim = BaseSimulation(Locations, G, peer_types, enable_logger=True, logger_dir='logs3')\n",
    "\n",
    "sim.run(5_000)"
   ]
  },
  {
   "cell_type": "markdown",
   "metadata": {},
   "source": [
    "3. Check log information in log3."
   ]
  },
  {
   "cell_type": "code",
   "execution_count": 93,
   "metadata": {},
   "outputs": [
    {
     "name": "stdout",
     "output_type": "stream",
     "text": [
      "Peer_1:basic INFO 0.6793490260265184: Received message <Hello:> from Peer_2:basic\n",
      "Peer_1:basic INFO 0.6793490260265184: Connecting to Peer_2:basic\n",
      "Peer_1:basic INFO 0.6793490260265184: Sending message <Hello:> to Peer_2:basic\n",
      "Peer_1:basic INFO 0.863202046090973: Received message <Hello:> from Peer_3:basic\n",
      "Peer_1:basic INFO 0.863202046090973: Connecting to Peer_3:basic\n",
      "Peer_1:basic INFO 0.863202046090973: Sending message <Hello:> to Peer_3:basic\n",
      "Peer_1:basic INFO 0.9828248583143545: Connecting to Peer_5:basic\n",
      "Peer_1:basic INFO 1.0452230695441604: Received message <Hello:> from Peer_5:basic\n",
      "Peer_1:basic INFO 2.3163914613321044: Received message <Hello:> from Peer_5:basic\n",
      "Peer_1:basic INFO 2.4255034949882908: Connecting to Peer_4:basic\n",
      "Peer_1:basic INFO 3.3050281329182822: Received message <Hello:> from Peer_4:basic\n",
      "Peer_1:basic INFO 6.088036552977853: Received message <Hello:> from Peer_4:basic\n",
      "Peer_1:basic INFO 1000: Sending message <Ping:> to Peer_2:basic\n",
      "Peer_1:basic INFO 1000: Sending message <Ping:> to Peer_3:basic\n",
      "Peer_1:basic INFO 1000: Sending message <Ping:> to Peer_5:basic\n",
      "Peer_1:basic INFO 1000: Sending message <Ping:> to Peer_4:basic\n",
      "Peer_1:basic INFO 1000.7361434396149: Received message <Ping:> from Peer_4:basic\n",
      "Peer_1:basic INFO 1000.7361434396149: Sending message <Pong:> to Peer_4:basic\n",
      "Peer_1:basic INFO 1000.7731728580359: Received message <Ping:> from Peer_2:basic\n",
      "Peer_1:basic INFO 1000.7731728580359: Sending message <Pong:> to Peer_2:basic\n",
      "Peer_1:basic INFO 1000.8064407807223: Received message <Ping:> from Peer_5:basic\n",
      "Peer_1:basic INFO 1000.8064407807223: Sending message <Pong:> to Peer_5:basic\n",
      "Peer_1:basic INFO 1000.8236450227596: Received message <Ping:> from Peer_3:basic\n",
      "Peer_1:basic INFO 1000.8236450227596: Sending message <Pong:> to Peer_3:basic\n",
      "Peer_1:basic INFO 1001.5739549610057: Received message <Pong:> from Peer_4:basic\n",
      "Peer_1:basic INFO 1001.9320560401845: Received message <Pong:> from Peer_5:basic\n",
      "Peer_1:basic INFO 1003.5707631015512: Received message <Pong:> from Peer_3:basic\n",
      "Peer_1:basic INFO 1013.94559683558: Received message <Pong:> from Peer_2:basic\n",
      "Peer_1:basic INFO 2000: Sending message <Ping:> to Peer_2:basic\n",
      "Peer_1:basic INFO 2000: Sending message <Ping:> to Peer_3:basic\n",
      "Peer_1:basic INFO 2000: Sending message <Ping:> to Peer_5:basic\n",
      "Peer_1:basic INFO 2000: Sending message <Ping:> to Peer_4:basic\n",
      "Peer_1:basic INFO 2000.7579975425572: Received message <Ping:> from Peer_4:basic\n",
      "Peer_1:basic INFO 2000.7579975425572: Sending message <Pong:> to Peer_4:basic\n",
      "Peer_1:basic INFO 2000.9655494379388: Received message <Ping:> from Peer_5:basic\n",
      "Peer_1:basic INFO 2000.9655494379388: Sending message <Pong:> to Peer_5:basic\n",
      "Peer_1:basic INFO 2000.9915491821046: Received message <Ping:> from Peer_2:basic\n",
      "Peer_1:basic INFO 2000.9915491821046: Sending message <Pong:> to Peer_2:basic\n",
      "Peer_1:basic INFO 2001.112032436115: Received message <Ping:> from Peer_3:basic\n",
      "Peer_1:basic INFO 2001.112032436115: Sending message <Pong:> to Peer_3:basic\n",
      "Peer_1:basic INFO 2001.5824001827343: Received message <Pong:> from Peer_5:basic\n",
      "Peer_1:basic INFO 2001.6804448561015: Received message <Pong:> from Peer_4:basic\n",
      "Peer_1:basic INFO 2001.9359465142406: Received message <Pong:> from Peer_2:basic\n",
      "Peer_1:basic INFO 2009.3038488737602: Received message <Pong:> from Peer_3:basic\n",
      "Peer_1:basic INFO 3000: Sending message <Ping:> to Peer_2:basic\n",
      "Peer_1:basic INFO 3000: Sending message <Ping:> to Peer_3:basic\n",
      "Peer_1:basic INFO 3000: Sending message <Ping:> to Peer_5:basic\n",
      "Peer_1:basic INFO 3000: Sending message <Ping:> to Peer_4:basic\n",
      "Peer_1:basic INFO 3000.7018632431245: Received message <Ping:> from Peer_4:basic\n",
      "Peer_1:basic INFO 3000.7018632431245: Sending message <Pong:> to Peer_4:basic\n",
      "Peer_1:basic INFO 3000.737175156356: Received message <Ping:> from Peer_3:basic\n",
      "Peer_1:basic INFO 3000.737175156356: Sending message <Pong:> to Peer_3:basic\n",
      "Peer_1:basic INFO 3000.781795982366: Received message <Ping:> from Peer_5:basic\n",
      "Peer_1:basic INFO 3000.781795982366: Sending message <Pong:> to Peer_5:basic\n",
      "Peer_1:basic INFO 3000.9220528718915: Received message <Ping:> from Peer_2:basic\n",
      "Peer_1:basic INFO 3000.9220528718915: Sending message <Pong:> to Peer_2:basic\n",
      "Peer_1:basic INFO 3001.6564272355226: Received message <Pong:> from Peer_4:basic\n",
      "Peer_1:basic INFO 3002.931715033068: Received message <Pong:> from Peer_3:basic\n",
      "Peer_1:basic INFO 3003.142254849504: Received message <Pong:> from Peer_5:basic\n",
      "Peer_1:basic INFO 3009.7361960479743: Received message <Pong:> from Peer_2:basic\n",
      "Peer_1:basic INFO 4000: Sending message <Ping:> to Peer_2:basic\n",
      "Peer_1:basic INFO 4000: Sending message <Ping:> to Peer_3:basic\n",
      "Peer_1:basic INFO 4000: Sending message <Ping:> to Peer_5:basic\n",
      "Peer_1:basic INFO 4000: Sending message <Ping:> to Peer_4:basic\n",
      "Peer_1:basic INFO 4000.742404381353: Received message <Ping:> from Peer_2:basic\n",
      "Peer_1:basic INFO 4000.742404381353: Sending message <Pong:> to Peer_2:basic\n",
      "Peer_1:basic INFO 4001.101735609439: Received message <Ping:> from Peer_4:basic\n",
      "Peer_1:basic INFO 4001.101735609439: Sending message <Pong:> to Peer_4:basic\n",
      "Peer_1:basic INFO 4001.4520923007394: Received message <Ping:> from Peer_3:basic\n",
      "Peer_1:basic INFO 4001.4520923007394: Sending message <Pong:> to Peer_3:basic\n",
      "Peer_1:basic INFO 4001.5264205542203: Received message <Pong:> from Peer_5:basic\n",
      "Peer_1:basic INFO 4001.54796595812: Received message <Pong:> from Peer_3:basic\n",
      "Peer_1:basic INFO 4001.6765890611427: Received message <Ping:> from Peer_5:basic\n",
      "Peer_1:basic INFO 4001.6765890611427: Sending message <Pong:> to Peer_5:basic\n",
      "Peer_1:basic INFO 4001.8607840309764: Received message <Pong:> from Peer_4:basic\n",
      "Peer_1:basic INFO 4002.394810547116: Received message <Pong:> from Peer_2:basic\n",
      "\n"
     ]
    }
   ],
   "source": [
    "with open('logs3/Peer_1:basic.log') as s:\n",
    "    print(s.read())"
   ]
  },
  {
   "cell_type": "markdown",
   "metadata": {},
   "source": [
    "4. Run the simulation with emergent topology, and save it to \"logs4\""
   ]
  },
  {
   "cell_type": "code",
   "execution_count": 94,
   "metadata": {},
   "outputs": [],
   "source": [
    "from p2psimpy.services.connection_manager import P2PConnectionManager\n",
    "\n",
    "num_peers = 10\n",
    "\n",
    "topology_specs = {i:{'type': 'basic'} for i in range(1, num_peers+1)}\n",
    "\n",
    "class ConnectionConfig(Config):\n",
    "    min_peers = 4\n",
    "    max_peers = 8\n",
    "\n",
    "peer_types = {'basic': PeerType(PeerConfig, {P2PConnectionManager: ConnectionConfig})}\n",
    "\n",
    "sim = BaseSimulation(Locations, topology_specs, peer_types, logger_dir='logs4')\n",
    "\n",
    "sim.run(5_000)"
   ]
  },
  {
   "cell_type": "markdown",
   "metadata": {},
   "source": [
    "5. Check log information in log4."
   ]
  },
  {
   "cell_type": "code",
   "execution_count": 96,
   "metadata": {},
   "outputs": [
    {
     "name": "stdout",
     "output_type": "stream",
     "text": [
      "Peer_1:basic WARNING 0: Not enough peers, fetching more (0, 4)\n",
      "Peer_1:basic INFO 8.076840648823291: Connecting to Peer_11:bootstrap\n",
      "Peer_1:basic INFO 14.703445177854926: Received message <Hello:> from Peer_11:bootstrap\n",
      "Peer_1:basic INFO 16.60582717672197: Received message <RequestPeers:> from Peer_11:bootstrap\n",
      "Peer_1:basic INFO 16.60582717672197: Sending message <PeerList> to Peer_11:bootstrap\n",
      "Peer_1:basic WARNING 500: Not enough peers, fetching more (1, 4)\n",
      "Peer_1:basic INFO 500: Sending message <RequestPeers:> to Peer_11:bootstrap\n",
      "Peer_1:basic INFO 506.7118706868092: Received message <RequestPeers:> from Peer_11:bootstrap\n",
      "Peer_1:basic INFO 506.7118706868092: Sending message <PeerList> to Peer_11:bootstrap\n",
      "Peer_1:basic INFO 514.7388628240881: Received message <PeerList> from Peer_11:bootstrap\n",
      "Peer_1:basic WARNING 1000: Not enough peers, fetching more (1, 4)\n",
      "Peer_1:basic INFO 1000: Sending message <RequestPeers:> to Peer_11:bootstrap\n",
      "Peer_1:basic INFO 1000.8930812132276: Connecting to Peer_4:basic\n",
      "Peer_1:basic INFO 1001.7123384644344: Received message <RequestPeers:> from Peer_4:basic\n",
      "Peer_1:basic INFO 1001.7123384644344: Sending message <PeerList> to Peer_4:basic\n",
      "Peer_1:basic INFO 1002.3969249343446: Received message <Hello:> from Peer_4:basic\n",
      "Peer_1:basic INFO 1020.8248141981024: Received message <PeerList> from Peer_11:bootstrap\n",
      "Peer_1:basic WARNING 1500: Not enough peers, fetching more (2, 4)\n",
      "Peer_1:basic INFO 1500: Sending message <RequestPeers:> to Peer_4:basic\n",
      "Peer_1:basic INFO 1500: Sending message <RequestPeers:> to Peer_11:bootstrap\n",
      "Peer_1:basic INFO 1500.858164584959: Received message <RequestPeers:> from Peer_4:basic\n",
      "Peer_1:basic INFO 1500.858164584959: Sending message <PeerList> to Peer_4:basic\n",
      "Peer_1:basic INFO 1501.9132099258866: Received message <PeerList> from Peer_4:basic\n",
      "Peer_1:basic INFO 1506.2032381658796: Connecting to Peer_7:basic\n",
      "Peer_1:basic INFO 1513.2598974092464: Received message <Hello:> from Peer_7:basic\n",
      "Peer_1:basic INFO 1513.269922477133: Received message <RequestPeers:> from Peer_7:basic\n",
      "Peer_1:basic INFO 1513.269922477133: Sending message <PeerList> to Peer_7:basic\n",
      "Peer_1:basic INFO 1513.60536353954: Received message <PeerList> from Peer_11:bootstrap\n",
      "Peer_1:basic WARNING 2000: Not enough peers, fetching more (3, 4)\n",
      "Peer_1:basic INFO 2000.6322981643518: Received message <RequestPeers:> from Peer_4:basic\n",
      "Peer_1:basic INFO 2000.6322981643518: Sending message <PeerList> to Peer_4:basic\n",
      "Peer_1:basic INFO 2000.89407485754: Connecting to Peer_3:basic\n",
      "Peer_1:basic INFO 2001.580173067552: Received message <RequestPeers:> from Peer_3:basic\n",
      "Peer_1:basic INFO 2001.580173067552: Sending message <PeerList> to Peer_3:basic\n",
      "Peer_1:basic INFO 2001.6382833807882: Received message <Hello:> from Peer_3:basic\n",
      "Peer_1:basic INFO 2006.558051598458: Received message <RequestPeers:> from Peer_11:bootstrap\n",
      "Peer_1:basic INFO 2006.558051598458: Sending message <PeerList> to Peer_11:bootstrap\n",
      "Peer_1:basic INFO 2500: Sending message <Ping:> to Peer_7:basic\n",
      "Peer_1:basic INFO 2509.0680750866045: Received message <Ping:> from Peer_7:basic\n",
      "Peer_1:basic INFO 2509.0680750866045: Sending message <Pong:> to Peer_7:basic\n",
      "Peer_1:basic INFO 2514.8647441112735: Received message <Pong:> from Peer_7:basic\n",
      "Peer_1:basic INFO 3000: Sending message <Ping:> to Peer_11:bootstrap\n",
      "Peer_1:basic INFO 3000: Sending message <Ping:> to Peer_4:basic\n",
      "Peer_1:basic INFO 3000: Sending message <Ping:> to Peer_3:basic\n",
      "Peer_1:basic INFO 3000.6600432083656: Received message <Ping:> from Peer_4:basic\n",
      "Peer_1:basic INFO 3000.6600432083656: Sending message <Pong:> to Peer_4:basic\n",
      "Peer_1:basic INFO 3000.9736935254623: Received message <Ping:> from Peer_3:basic\n",
      "Peer_1:basic INFO 3000.9736935254623: Sending message <Pong:> to Peer_3:basic\n",
      "Peer_1:basic INFO 3001.594094133647: Received message <Pong:> from Peer_4:basic\n",
      "Peer_1:basic INFO 3002.3616808752486: Received message <Pong:> from Peer_3:basic\n",
      "Peer_1:basic INFO 3007.5944793858107: Received message <Ping:> from Peer_11:bootstrap\n",
      "Peer_1:basic INFO 3007.5944793858107: Sending message <Pong:> to Peer_11:bootstrap\n",
      "Peer_1:basic INFO 3009.9701193490723: Received message <RequestPeers:> from Peer_11:bootstrap\n",
      "Peer_1:basic INFO 3009.9701193490723: Sending message <PeerList> to Peer_11:bootstrap\n",
      "Peer_1:basic INFO 3014.231010251791: Received message <Pong:> from Peer_11:bootstrap\n",
      "Peer_1:basic INFO 3500: Sending message <Ping:> to Peer_7:basic\n",
      "Peer_1:basic INFO 3506.5470312630227: Received message <RequestPeers:> from Peer_11:bootstrap\n",
      "Peer_1:basic INFO 3506.5470312630227: Sending message <PeerList> to Peer_11:bootstrap\n",
      "Peer_1:basic INFO 3507.6142735159906: Received message <Ping:> from Peer_7:basic\n",
      "Peer_1:basic INFO 3507.6142735159906: Sending message <Pong:> to Peer_7:basic\n",
      "Peer_1:basic INFO 3514.197153547076: Received message <Pong:> from Peer_7:basic\n",
      "Peer_1:basic INFO 4000: Sending message <Ping:> to Peer_4:basic\n",
      "Peer_1:basic INFO 4000: Sending message <Ping:> to Peer_3:basic\n",
      "Peer_1:basic INFO 4000.665860497299: Received message <Ping:> from Peer_3:basic\n",
      "Peer_1:basic INFO 4000.665860497299: Sending message <Pong:> to Peer_3:basic\n",
      "Peer_1:basic INFO 4000.69623460303: Received message <Ping:> from Peer_4:basic\n",
      "Peer_1:basic INFO 4000.69623460303: Sending message <Pong:> to Peer_4:basic\n",
      "Peer_1:basic INFO 4001.6909345136028: Received message <Pong:> from Peer_4:basic\n",
      "Peer_1:basic INFO 4002.8283431471027: Received message <Pong:> from Peer_3:basic\n",
      "Peer_1:basic INFO 4500: Sending message <Ping:> to Peer_11:bootstrap\n",
      "Peer_1:basic INFO 4500: Sending message <Ping:> to Peer_7:basic\n",
      "Peer_1:basic INFO 4506.770154903747: Received message <Ping:> from Peer_7:basic\n",
      "Peer_1:basic INFO 4506.770154903747: Sending message <Pong:> to Peer_7:basic\n",
      "Peer_1:basic INFO 4509.087269542158: Received message <Ping:> from Peer_11:bootstrap\n",
      "Peer_1:basic INFO 4509.087269542158: Sending message <Pong:> to Peer_11:bootstrap\n",
      "Peer_1:basic INFO 4512.091016073616: Received message <RequestPeers:> from Peer_11:bootstrap\n",
      "Peer_1:basic INFO 4512.091016073616: Sending message <PeerList> to Peer_11:bootstrap\n",
      "Peer_1:basic INFO 4513.321853311916: Received message <Pong:> from Peer_7:basic\n",
      "Peer_1:basic INFO 4514.966178222987: Received message <Pong:> from Peer_11:bootstrap\n",
      "\n"
     ]
    }
   ],
   "source": [
    "with open('logs4/Peer_1:basic.log') as s:\n",
    "    print(s.read())"
   ]
  },
  {
   "cell_type": "markdown",
   "metadata": {},
   "source": [
    "### Experiment 2\n",
    "1. Change the min_peers/max_peers parameters in \"ConnectionConfig\" with emergent topology, and save it to \"logs5\""
   ]
  },
  {
   "cell_type": "code",
   "execution_count": 97,
   "metadata": {},
   "outputs": [],
   "source": [
    "from p2psimpy.services.connection_manager import P2PConnectionManager\n",
    "\n",
    "num_peers = 10\n",
    "\n",
    "topology_specs = {i:{'type': 'basic'} for i in range(1, num_peers+1)}\n",
    "\n",
    "class ConnectionConfig(Config):\n",
    "    min_peers = 5\n",
    "    max_peers = 10\n",
    "\n",
    "peer_types = {'basic': PeerType(PeerConfig, {P2PConnectionManager: ConnectionConfig})}\n",
    "\n",
    "sim = BaseSimulation(Locations, topology_specs, peer_types, logger_dir='logs5')\n",
    "\n",
    "sim.run(5_000)"
   ]
  },
  {
   "cell_type": "markdown",
   "metadata": {},
   "source": [
    "2. Check log information in log5"
   ]
  },
  {
   "cell_type": "code",
   "execution_count": 98,
   "metadata": {},
   "outputs": [
    {
     "name": "stdout",
     "output_type": "stream",
     "text": [
      "Peer_1:basic WARNING 0: Not enough peers, fetching more (0, 5)\n",
      "Peer_1:basic INFO 0.731415563612741: Connecting to Peer_11:bootstrap\n",
      "Peer_1:basic INFO 1.6800555916805406: Received message <Hello:> from Peer_11:bootstrap\n",
      "Peer_1:basic INFO 5.259538430808023: Received message <RequestPeers:> from Peer_11:bootstrap\n",
      "Peer_1:basic INFO 5.259538430808023: Sending message <PeerList> to Peer_11:bootstrap\n",
      "Peer_1:basic WARNING 500: Not enough peers, fetching more (1, 5)\n",
      "Peer_1:basic INFO 500: Sending message <RequestPeers:> to Peer_11:bootstrap\n",
      "Peer_1:basic INFO 501.56327221911414: Received message <PeerList> from Peer_11:bootstrap\n",
      "Peer_1:basic WARNING 1000: Not enough peers, fetching more (1, 5)\n",
      "Peer_1:basic INFO 1000: Sending message <RequestPeers:> to Peer_11:bootstrap\n",
      "Peer_1:basic INFO 1000.9164261183577: Received message <Hello:> from Peer_6:basic\n",
      "Peer_1:basic INFO 1000.9164261183577: Connecting to Peer_6:basic\n",
      "Peer_1:basic INFO 1000.9164261183577: Sending message <Hello:> to Peer_6:basic\n",
      "Peer_1:basic INFO 1000.9164261183577: Sending message <RequestPeers:> to Peer_6:basic\n",
      "Peer_1:basic INFO 1001.5627593464044: Received message <PeerList> from Peer_11:bootstrap\n",
      "Peer_1:basic INFO 1003.9605532426866: Received message <PeerList> from Peer_6:basic\n",
      "Peer_1:basic WARNING 1500: Not enough peers, fetching more (2, 5)\n",
      "Peer_1:basic INFO 1500: Sending message <RequestPeers:> to Peer_6:basic\n",
      "Peer_1:basic INFO 1500: Sending message <RequestPeers:> to Peer_11:bootstrap\n",
      "Peer_1:basic INFO 1500.8061094097543: Received message <RequestPeers:> from Peer_6:basic\n",
      "Peer_1:basic INFO 1500.8061094097543: Sending message <PeerList> to Peer_6:basic\n",
      "Peer_1:basic INFO 1501.958531949084: Received message <PeerList> from Peer_6:basic\n",
      "Peer_1:basic INFO 1503.5336428390663: Received message <PeerList> from Peer_11:bootstrap\n",
      "Peer_1:basic INFO 1507.9449655318735: Received message <Hello:> from Peer_3:basic\n",
      "Peer_1:basic INFO 1507.9449655318735: Connecting to Peer_3:basic\n",
      "Peer_1:basic INFO 1507.9449655318735: Sending message <Hello:> to Peer_3:basic\n",
      "Peer_1:basic INFO 1507.9449655318735: Sending message <RequestPeers:> to Peer_3:basic\n",
      "Peer_1:basic INFO 1520.7330891245726: Received message <PeerList> from Peer_3:basic\n",
      "Peer_1:basic WARNING 2000: Not enough peers, fetching more (3, 5)\n",
      "Peer_1:basic INFO 2001.2792876785463: Connecting to Peer_2:basic\n",
      "Peer_1:basic INFO 2001.4394042358233: Received message <RequestPeers:> from Peer_11:bootstrap\n",
      "Peer_1:basic INFO 2001.4394042358233: Sending message <PeerList> to Peer_11:bootstrap\n",
      "Peer_1:basic INFO 2001.6363098413694: Connecting to Peer_7:basic\n",
      "Peer_1:basic INFO 2002.2124045857772: Received message <Hello:> from Peer_2:basic\n",
      "Peer_1:basic INFO 2002.2131789821135: Received message <RequestPeers:> from Peer_2:basic\n",
      "Peer_1:basic INFO 2002.2131789821135: Sending message <PeerList> to Peer_2:basic\n",
      "Peer_1:basic INFO 2002.488942301357: Received message <Hello:> from Peer_7:basic\n",
      "Peer_1:basic INFO 2002.5629426563894: Received message <RequestPeers:> from Peer_7:basic\n",
      "Peer_1:basic INFO 2002.5629426563894: Sending message <PeerList> to Peer_7:basic\n",
      "Peer_1:basic INFO 2500: Sending message <Ping:> to Peer_6:basic\n",
      "Peer_1:basic INFO 2500: Sending message <Ping:> to Peer_3:basic\n",
      "Peer_1:basic INFO 2500.7461988556156: Received message <Ping:> from Peer_6:basic\n",
      "Peer_1:basic INFO 2500.7461988556156: Sending message <Pong:> to Peer_6:basic\n",
      "Peer_1:basic INFO 2500.928181439481: Received message <Hello:> from Peer_5:basic\n",
      "Peer_1:basic INFO 2500.928181439481: Connecting to Peer_5:basic\n",
      "Peer_1:basic INFO 2500.928181439481: Sending message <Hello:> to Peer_5:basic\n",
      "Peer_1:basic INFO 2500.928181439481: Sending message <RequestPeers:> to Peer_5:basic\n",
      "Peer_1:basic INFO 2501.1933476968256: Received message <RequestPeers:> from Peer_11:bootstrap\n",
      "Peer_1:basic INFO 2501.1933476968256: Sending message <PeerList> to Peer_11:bootstrap\n",
      "Peer_1:basic INFO 2502.3525365677133: Received message <PeerList> from Peer_5:basic\n",
      "Peer_1:basic INFO 2507.1570572071546: Received message <Ping:> from Peer_3:basic\n",
      "Peer_1:basic INFO 2507.1570572071546: Sending message <Pong:> to Peer_3:basic\n",
      "Peer_1:basic INFO 2508.2481072095775: Received message <Pong:> from Peer_6:basic\n",
      "Peer_1:basic INFO 2537.4386513127442: Received message <Pong:> from Peer_3:basic\n",
      "Peer_1:basic INFO 3000: Sending message <Ping:> to Peer_2:basic\n",
      "Peer_1:basic INFO 3000: Sending message <Ping:> to Peer_7:basic\n",
      "Peer_1:basic INFO 3000.79465779842: Received message <Ping:> from Peer_2:basic\n",
      "Peer_1:basic INFO 3000.79465779842: Sending message <Pong:> to Peer_2:basic\n",
      "Peer_1:basic INFO 3001.361600838182: Received message <Ping:> from Peer_7:basic\n",
      "Peer_1:basic INFO 3001.361600838182: Sending message <Pong:> to Peer_7:basic\n",
      "Peer_1:basic INFO 3001.643557205529: Received message <Pong:> from Peer_7:basic\n",
      "Peer_1:basic INFO 3001.7830982508394: Received message <Pong:> from Peer_2:basic\n",
      "Peer_1:basic INFO 3003.060687903814: Received message <RequestPeers:> from Peer_5:basic\n",
      "Peer_1:basic INFO 3003.060687903814: Sending message <PeerList> to Peer_5:basic\n",
      "Peer_1:basic INFO 3500: Sending message <Ping:> to Peer_11:bootstrap\n",
      "Peer_1:basic INFO 3500: Sending message <Ping:> to Peer_6:basic\n",
      "Peer_1:basic INFO 3500: Sending message <Ping:> to Peer_3:basic\n",
      "Peer_1:basic INFO 3500.7106686723114: Received message <Ping:> from Peer_6:basic\n",
      "Peer_1:basic INFO 3500.7106686723114: Sending message <Pong:> to Peer_6:basic\n",
      "Peer_1:basic INFO 3500.7506627915154: Received message <Ping:> from Peer_11:bootstrap\n",
      "Peer_1:basic INFO 3500.7506627915154: Sending message <Pong:> to Peer_11:bootstrap\n",
      "Peer_1:basic INFO 3501.9681892923236: Received message <RequestPeers:> from Peer_11:bootstrap\n",
      "Peer_1:basic INFO 3501.9681892923236: Sending message <PeerList> to Peer_11:bootstrap\n",
      "Peer_1:basic INFO 3502.059324313864: Received message <Pong:> from Peer_6:basic\n",
      "Peer_1:basic INFO 3506.824873290695: Received message <Ping:> from Peer_3:basic\n",
      "Peer_1:basic INFO 3506.824873290695: Sending message <Pong:> to Peer_3:basic\n",
      "Peer_1:basic INFO 3516.4337032797534: Received message <Pong:> from Peer_3:basic\n",
      "Peer_1:basic INFO 3840.205503187087: Received message <Pong:> from Peer_11:bootstrap\n",
      "Peer_1:basic INFO 4000: Sending message <Ping:> to Peer_2:basic\n",
      "Peer_1:basic INFO 4000: Sending message <Ping:> to Peer_7:basic\n",
      "Peer_1:basic INFO 4000: Sending message <Ping:> to Peer_5:basic\n",
      "Peer_1:basic INFO 4000.7020806703244: Received message <Ping:> from Peer_5:basic\n",
      "Peer_1:basic INFO 4000.7020806703244: Sending message <Pong:> to Peer_5:basic\n",
      "Peer_1:basic INFO 4000.757683055304: Received message <Ping:> from Peer_7:basic\n",
      "Peer_1:basic INFO 4000.757683055304: Sending message <Pong:> to Peer_7:basic\n",
      "Peer_1:basic INFO 4000.967159940112: Received message <Ping:> from Peer_2:basic\n",
      "Peer_1:basic INFO 4000.967159940112: Sending message <Pong:> to Peer_2:basic\n",
      "Peer_1:basic INFO 4002.353943907885: Received message <Pong:> from Peer_7:basic\n",
      "Peer_1:basic INFO 4002.488938787471: Received message <Pong:> from Peer_5:basic\n",
      "Peer_1:basic INFO 4007.958814336027: Received message <Pong:> from Peer_2:basic\n",
      "Peer_1:basic INFO 4500: Sending message <Ping:> to Peer_11:bootstrap\n",
      "Peer_1:basic INFO 4500: Sending message <Ping:> to Peer_6:basic\n",
      "Peer_1:basic INFO 4500: Sending message <Ping:> to Peer_3:basic\n",
      "Peer_1:basic INFO 4500.695834142068: Received message <Ping:> from Peer_6:basic\n",
      "Peer_1:basic INFO 4500.695834142068: Sending message <Pong:> to Peer_6:basic\n",
      "Peer_1:basic INFO 4500.838676055545: Received message <Ping:> from Peer_11:bootstrap\n",
      "Peer_1:basic INFO 4500.838676055545: Sending message <Pong:> to Peer_11:bootstrap\n",
      "Peer_1:basic INFO 4501.054827933747: Received message <RequestPeers:> from Peer_11:bootstrap\n",
      "Peer_1:basic INFO 4501.054827933747: Sending message <PeerList> to Peer_11:bootstrap\n",
      "Peer_1:basic INFO 4501.473820009968: Received message <Pong:> from Peer_11:bootstrap\n",
      "Peer_1:basic INFO 4503.6140860509595: Received message <Pong:> from Peer_6:basic\n",
      "Peer_1:basic INFO 4506.782852105897: Received message <Ping:> from Peer_3:basic\n",
      "Peer_1:basic INFO 4506.782852105897: Sending message <Pong:> to Peer_3:basic\n",
      "Peer_1:basic INFO 4513.370335624231: Received message <Pong:> from Peer_3:basic\n",
      "\n"
     ]
    }
   ],
   "source": [
    "with open('logs5/Peer_1:basic.log') as s:\n",
    "    print(s.read())"
   ]
  }
 ],
 "metadata": {
  "hide_input": false,
  "kernelspec": {
   "display_name": "Python 3",
   "language": "python",
   "name": "python3"
  },
  "language_info": {
   "codemirror_mode": {
    "name": "ipython",
    "version": 3
   },
   "file_extension": ".py",
   "mimetype": "text/x-python",
   "name": "python",
   "nbconvert_exporter": "python",
   "pygments_lexer": "ipython3",
   "version": "3.7.1"
  },
  "pycharm": {
   "stem_cell": {
    "cell_type": "raw",
    "metadata": {
     "collapsed": false
    },
    "source": []
   }
  },
  "toc": {
   "base_numbering": 1,
   "nav_menu": {},
   "number_sections": true,
   "sideBar": true,
   "skip_h1_title": false,
   "title_cell": "Table of Contents",
   "title_sidebar": "Contents",
   "toc_cell": false,
   "toc_position": {
    "height": "524px",
    "left": "441px",
    "top": "355px",
    "width": "256px"
   },
   "toc_section_display": true,
   "toc_window_display": false
  },
  "varInspector": {
   "cols": {
    "lenName": 16,
    "lenType": 16,
    "lenVar": 40
   },
   "kernels_config": {
    "python": {
     "delete_cmd_postfix": "",
     "delete_cmd_prefix": "del ",
     "library": "var_list.py",
     "varRefreshCmd": "print(var_dic_list())"
    },
    "r": {
     "delete_cmd_postfix": ") ",
     "delete_cmd_prefix": "rm(",
     "library": "var_list.r",
     "varRefreshCmd": "cat(var_dic_list()) "
    }
   },
   "types_to_exclude": [
    "module",
    "function",
    "builtin_function_or_method",
    "instance",
    "_Feature"
   ],
   "window_display": false
  }
 },
 "nbformat": 4,
 "nbformat_minor": 4
}
